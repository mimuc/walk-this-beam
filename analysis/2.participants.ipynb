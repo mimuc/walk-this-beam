{
 "cells": [
  {
   "cell_type": "markdown",
   "metadata": {},
   "source": [
    "Copyright © 2022 LMU Munich Media Informatics Group. All rights reserved.\n",
    "\n",
    "Created by [Changkun Ou](https://changkun.de).\n",
    "\n",
    "Use of this source code is governed by a GNU GPLv3 license that\n",
    "can be found in the LICENSE file."
   ]
  },
  {
   "cell_type": "code",
   "execution_count": 1,
   "metadata": {},
   "outputs": [],
   "source": [
    "import pandas as pd"
   ]
  },
  {
   "cell_type": "code",
   "execution_count": 2,
   "metadata": {},
   "outputs": [],
   "source": [
    "df = pd.read_csv('../data/meta.csv')\n",
    "df = df[df['user_id'] != 12] # exclude Andreas"
   ]
  },
  {
   "cell_type": "code",
   "execution_count": 3,
   "metadata": {},
   "outputs": [
    {
     "name": "stdout",
     "output_type": "stream",
     "text": [
      "male: 11, female: 7\n",
      "range: [21, 66]\n",
      "mean: 31.88888888888889\n",
      "std: 13.923694949464803\n"
     ]
    }
   ],
   "source": [
    "print(f\"male: {len(df[df['gender'] == 0])}, female: {len(df[df['gender'] == 1])}\")\n",
    "print(f\"range: [{df['age'].min()}, {df['age'].max()}]\")\n",
    "print(f\"mean: {df['age'].mean()}\")\n",
    "print(f\"std: {df['age'].std()}\")"
   ]
  }
 ],
 "metadata": {
  "kernelspec": {
   "display_name": "Python 3.8.10 64-bit",
   "language": "python",
   "name": "python3"
  },
  "language_info": {
   "codemirror_mode": {
    "name": "ipython",
    "version": 3
   },
   "file_extension": ".py",
   "mimetype": "text/x-python",
   "name": "python",
   "nbconvert_exporter": "python",
   "pygments_lexer": "ipython3",
   "version": "3.8.10"
  },
  "orig_nbformat": 4,
  "vscode": {
   "interpreter": {
    "hash": "916dbcbb3f70747c44a77c7bcd40155683ae19c65e1c03b4aa3499c5328201f1"
   }
  }
 },
 "nbformat": 4,
 "nbformat_minor": 2
}
