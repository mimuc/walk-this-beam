{
 "cells": [
  {
   "cell_type": "markdown",
   "metadata": {},
   "source": [
    "Copyright © 2022 LMU Munich Media Informatics Group. All rights reserved.\n",
    "\n",
    "Based on discussions between [Changkun Ou](https://changkun.de), [Francesco Chiossi](https://www.um.informatik.uni-muenchen.de/personen/mitarbeiter/chiossi/index.html), and [Sven Mayer](https://sven-mayer.com).\n",
    "\n",
    "Use of this source code is governed by a GNU GPLv3 license that\n",
    "can be found in the LICENSE file."
   ]
  },
  {
   "cell_type": "code",
   "execution_count": 1,
   "metadata": {
    "vscode": {
     "languageId": "r"
    }
   },
   "outputs": [
    {
     "name": "stderr",
     "output_type": "stream",
     "text": [
      "\n",
      "Attaching package: ‘dplyr’\n",
      "\n",
      "\n",
      "The following objects are masked from ‘package:stats’:\n",
      "\n",
      "    filter, lag\n",
      "\n",
      "\n",
      "The following objects are masked from ‘package:base’:\n",
      "\n",
      "    intersect, setdiff, setequal, union\n",
      "\n",
      "\n",
      "\n",
      "Attaching package: ‘effectsize’\n",
      "\n",
      "\n",
      "The following object is masked from ‘package:apa’:\n",
      "\n",
      "    cohens_d\n",
      "\n",
      "\n",
      "Loading required package: carData\n",
      "\n",
      "\n",
      "Attaching package: ‘car’\n",
      "\n",
      "\n",
      "The following object is masked from ‘package:dplyr’:\n",
      "\n",
      "    recode\n",
      "\n",
      "\n"
     ]
    }
   ],
   "source": [
    "source('stats.R')"
   ]
  },
  {
   "cell_type": "code",
   "execution_count": 2,
   "metadata": {
    "vscode": {
     "languageId": "r"
    }
   },
   "outputs": [],
   "source": [
    "df_ecg <- read.csv(\"./clean/ecg.csv\")\n",
    "# remove users with missing data, see 1.missing.ipynb\n",
    "df_ecg <- df_ecg %>% filter(!(user_id %in% c(12, 14, 20, 22)))\n",
    "# replace missing data with median of the hrv_rmssd\n",
    "df_ecg$hrv_rmssd[is.na(df_ecg$hrv_rmssd)] <- median(df_ecg$hrv_rmssd, na.rm = T)\n",
    "\n",
    "df_ecg$user_id <- as.factor(df_ecg$user_id)\n",
    "df_ecg$method <- as.factor(df_ecg$method)\n",
    "df_ecg$tide <- as.factor(df_ecg$tide)"
   ]
  },
  {
   "cell_type": "code",
   "execution_count": 3,
   "metadata": {
    "vscode": {
     "languageId": "r"
    }
   },
   "outputs": [
    {
     "name": "stdout",
     "output_type": "stream",
     "text": [
      "[1] \"not normally distributed:\"\n",
      "\n",
      "\tShapiro-Wilk normality test\n",
      "\n",
      "data:  df[[feature]]\n",
      "W = 0.98814, p-value = 0.004945\n",
      "\n",
      "ecg_rate ~ method * tide + (1 | user_id)\n",
      "<environment: 0x564f7636e350>\n",
      "     Term                 F               Df            Df.res   \n",
      " Length:3           Min.   :0.754   Min.   :1.000   Min.   :340  \n",
      " Class :character   1st Qu.:2.887   1st Qu.:1.500   1st Qu.:340  \n",
      " Mode  :character   Median :5.020   Median :2.000   Median :340  \n",
      "                    Mean   :3.767   Mean   :1.667   Mean   :340  \n",
      "                    3rd Qu.:5.274   3rd Qu.:2.000   3rd Qu.:340  \n",
      "                    Max.   :5.527   Max.   :2.000   Max.   :340  \n",
      "     Pr(>F)       \n",
      " Min.   :0.00710  \n",
      " 1st Qu.:0.01320  \n",
      " Median :0.01929  \n",
      " Mean   :0.16589  \n",
      " 3rd Qu.:0.24528  \n",
      " Max.   :0.47127  \n",
      "Analysis of Variance of Aligned Rank Transformed Data\n",
      "\n",
      "Table Type: Analysis of Deviance Table (Type III Wald F tests with Kenward-Roger df) \n",
      "Model: Mixed Effects (lmer)\n",
      "Response: art(ecg_rate)\n",
      "\n",
      "                   F Df Df.res   Pr(>F)   \n",
      "1 method      5.0204  2    340 0.007100 **\n",
      "2 tide        5.5274  1    340 0.019292  *\n",
      "3 method:tide 0.7540  2    340 0.471265   \n",
      "---\n",
      "Signif. codes:   0 ‘***’ 0.001 ‘**’ 0.01 ‘*’ 0.05 ‘.’ 0.1 ‘ ’ 1 \n",
      "\u001b[34m# Effect Size for ANOVA (Type I)\u001b[39m\n",
      "\n",
      "Parameter   | Eta2 (partial) |       95% CI\n",
      "-------------------------------------------\n",
      "method      |           0.03 | [0.00, 1.00]\n",
      "tide        |           0.02 | [0.00, 1.00]\n",
      "method:tide |       4.42e-03 | [0.00, 1.00]\n",
      "\u001b[36m\n",
      "- One-sided CIs: upper bound fixed at [1.00].\u001b[39m\u001b[34m# Effect Size for ANOVA (Type I)\u001b[39m\n",
      "\n",
      "Parameter   | Omega2 (partial) |       95% CI\n",
      "---------------------------------------------\n",
      "method      |             0.02 | [0.00, 1.00]\n",
      "tide        |             0.01 | [0.00, 1.00]\n",
      "method:tide |        -1.44e-03 | [0.00, 1.00]\n",
      "\u001b[36m\n",
      "- One-sided CIs: upper bound fixed at [1.00].\u001b[39m                                           contrast    estimate       SE  df\n",
      "1      Gamification,HighTide - Gamification,LowTide -20.8666667 9.767551 340\n",
      "2        Gamification,HighTide - Imitation,HighTide  15.0000000 9.767551 340\n",
      "3         Gamification,HighTide - Imitation,LowTide   6.8000000 9.767551 340\n",
      "4   Gamification,HighTide - NoInstructions,HighTide   6.6333333 9.767551 340\n",
      "5    Gamification,HighTide - NoInstructions,LowTide  -2.7666667 9.767551 340\n",
      "6         Gamification,LowTide - Imitation,HighTide  35.8666667 9.767551 340\n",
      "7          Gamification,LowTide - Imitation,LowTide  27.6666667 9.767551 340\n",
      "8    Gamification,LowTide - NoInstructions,HighTide  27.5000000 9.767551 340\n",
      "9     Gamification,LowTide - NoInstructions,LowTide  18.1000000 9.767551 340\n",
      "10           Imitation,HighTide - Imitation,LowTide  -8.2000000 9.767551 340\n",
      "11     Imitation,HighTide - NoInstructions,HighTide  -8.3666667 9.767551 340\n",
      "12      Imitation,HighTide - NoInstructions,LowTide -17.7666667 9.767551 340\n",
      "13      Imitation,LowTide - NoInstructions,HighTide  -0.1666667 9.767551 340\n",
      "14       Imitation,LowTide - NoInstructions,LowTide  -9.5666667 9.767551 340\n",
      "15 NoInstructions,HighTide - NoInstructions,LowTide  -9.4000000 9.767551 340\n",
      "      t.ratio     p.value sig.\n",
      "1  -2.1363254 0.400398674     \n",
      "2   1.5356971 1.000000000     \n",
      "3   0.6961827 1.000000000     \n",
      "4   0.6791194 1.000000000     \n",
      "5  -0.2832508 1.000000000     \n",
      "6   3.6720225 0.004190561   **\n",
      "7   2.8325081 0.068513156    .\n",
      "8   2.8154448 0.068513156    .\n",
      "9   1.8530746 0.712117116     \n",
      "10 -0.8395144 1.000000000     \n",
      "11 -0.8565777 1.000000000     \n",
      "12 -1.8189479 0.712117116     \n",
      "13 -0.0170633 1.000000000     \n",
      "14 -0.9794335 1.000000000     \n",
      "15 -0.9623702 1.000000000     \n",
      "2 & 340 & 5.02 & \\textbf{0.007} & 0.023 & 1 & 340 & 5.527 & \\textbf{0.019} & 0.013 & 2 & 340 & 0.754 & 0.471 & -0.001[1] \"not normally distributed:\"\n",
      "\n",
      "\tShapiro-Wilk normality test\n",
      "\n",
      "data:  df[[feature]]\n",
      "W = 0.61261, p-value < 2.2e-16\n",
      "\n",
      "hrv_rmssd ~ method * tide + (1 | user_id)\n",
      "<environment: 0x564f75b7af30>\n",
      "     Term                 F                 Df            Df.res   \n",
      " Length:3           Min.   : 0.7273   Min.   :1.000   Min.   :340  \n",
      " Class :character   1st Qu.: 1.1334   1st Qu.:1.500   1st Qu.:340  \n",
      " Mode  :character   Median : 1.5394   Median :2.000   Median :340  \n",
      "                    Mean   : 5.9507   Mean   :1.667   Mean   :340  \n",
      "                    3rd Qu.: 8.5624   3rd Qu.:2.000   3rd Qu.:340  \n",
      "                    Max.   :15.5854   Max.   :2.000   Max.   :340  \n",
      "     Pr(>F)         \n",
      " Min.   :0.0000959  \n",
      " 1st Qu.:0.1080482  \n",
      " Median :0.2160005  \n",
      " Mean   :0.2333508  \n",
      " 3rd Qu.:0.3499782  \n",
      " Max.   :0.4839560  \n",
      "Analysis of Variance of Aligned Rank Transformed Data\n",
      "\n",
      "Table Type: Analysis of Deviance Table (Type III Wald F tests with Kenward-Roger df) \n",
      "Model: Mixed Effects (lmer)\n",
      "Response: art(hrv_rmssd)\n",
      "\n",
      "                     F Df Df.res     Pr(>F)    \n",
      "1 method       1.53940  2    340    0.21600    \n",
      "2 tide        15.58541  1    340 9.5865e-05 ***\n",
      "3 method:tide  0.72731  2    340    0.48396    \n",
      "---\n",
      "Signif. codes:   0 ‘***’ 0.001 ‘**’ 0.01 ‘*’ 0.05 ‘.’ 0.1 ‘ ’ 1 \n",
      "\u001b[34m# Effect Size for ANOVA (Type I)\u001b[39m\n",
      "\n",
      "Parameter   | Eta2 (partial) |       95% CI\n",
      "-------------------------------------------\n",
      "method      |       8.97e-03 | [0.00, 1.00]\n",
      "tide        |           0.04 | [0.02, 1.00]\n",
      "method:tide |       4.26e-03 | [0.00, 1.00]\n",
      "\u001b[36m\n",
      "- One-sided CIs: upper bound fixed at [1.00].\u001b[39m\u001b[34m# Effect Size for ANOVA (Type I)\u001b[39m\n",
      "\n",
      "Parameter   | Omega2 (partial) |       95% CI\n",
      "---------------------------------------------\n",
      "method      |         3.14e-03 | [0.00, 1.00]\n",
      "tide        |             0.04 | [0.01, 1.00]\n",
      "method:tide |        -1.59e-03 | [0.00, 1.00]\n",
      "\u001b[36m\n",
      "- One-sided CIs: upper bound fixed at [1.00].\u001b[39m                                           contrast   estimate       SE  df\n",
      "1      Gamification,HighTide - Gamification,LowTide  38.625000 12.60207 340\n",
      "2        Gamification,HighTide - Imitation,HighTide  21.775000 12.60207 340\n",
      "3         Gamification,HighTide - Imitation,LowTide  46.491667 12.60207 340\n",
      "4   Gamification,HighTide - NoInstructions,HighTide  18.275000 12.60207 340\n",
      "5    Gamification,HighTide - NoInstructions,LowTide  42.283333 12.60207 340\n",
      "6         Gamification,LowTide - Imitation,HighTide -16.850000 12.60207 340\n",
      "7          Gamification,LowTide - Imitation,LowTide   7.866667 12.60207 340\n",
      "8    Gamification,LowTide - NoInstructions,HighTide -20.350000 12.60207 340\n",
      "9     Gamification,LowTide - NoInstructions,LowTide   3.658333 12.60207 340\n",
      "10           Imitation,HighTide - Imitation,LowTide  24.716667 12.60207 340\n",
      "11     Imitation,HighTide - NoInstructions,HighTide  -3.500000 12.60207 340\n",
      "12      Imitation,HighTide - NoInstructions,LowTide  20.508333 12.60207 340\n",
      "13      Imitation,LowTide - NoInstructions,HighTide -28.216667 12.60207 340\n",
      "14       Imitation,LowTide - NoInstructions,LowTide  -4.208333 12.60207 340\n",
      "15 NoInstructions,HighTide - NoInstructions,LowTide  24.008333 12.60207 340\n",
      "      t.ratio    p.value sig.\n",
      "1   3.0649723 0.03056373    *\n",
      "2   1.7278906 0.76424266     \n",
      "3   3.6892083 0.00392761   **\n",
      "4   1.4501584 0.88761711     \n",
      "5   3.3552685 0.01235455    *\n",
      "6  -1.3370818 0.91044910     \n",
      "7   0.6242360 1.00000000     \n",
      "8  -1.6148139 0.83666534     \n",
      "9   0.2902962 1.00000000     \n",
      "10  1.9613178 0.55723520     \n",
      "11 -0.2777321 1.00000000     \n",
      "12  1.6273780 0.83666534     \n",
      "13 -2.2390499 0.30958831     \n",
      "14 -0.3339398 1.00000000     \n",
      "15  1.9051101 0.57609227     \n",
      "2 & 340 & 1.539 & 0.216 & 0.003 & 1 & 340 & 15.585 & \\textbf{\\textbf{< .001}} & 0.041 & 2 & 340 & 0.727 & 0.484 & -0.002"
     ]
    }
   ],
   "source": [
    "twoway_anova_test(df_ecg, \"ecg_rate\")\n",
    "twoway_anova_test(df_ecg, \"hrv_rmssd\")"
   ]
  },
  {
   "cell_type": "code",
   "execution_count": 4,
   "metadata": {
    "vscode": {
     "languageId": "r"
    }
   },
   "outputs": [
    {
     "name": "stdout",
     "output_type": "stream",
     "text": [
      "[1] \"not normally distributed:\"\n",
      "\n",
      "\tShapiro-Wilk normality test\n",
      "\n",
      "data:  df[[feature]]\n",
      "W = 0.67733, p-value < 2.2e-16\n",
      "\n",
      "hrv_rmssd ~ method * tide + (1 | user_id)\n",
      "<environment: 0x564f7c5c1668>\n",
      "     Term                 F                 Df            Df.res   \n",
      " Length:3           Min.   : 0.2899   Min.   :1.000   Min.   :271  \n",
      " Class :character   1st Qu.: 0.4544   1st Qu.:1.500   1st Qu.:271  \n",
      " Mode  :character   Median : 0.6189   Median :2.000   Median :271  \n",
      "                    Mean   : 4.6515   Mean   :1.667   Mean   :271  \n",
      "                    3rd Qu.: 6.8323   3rd Qu.:2.000   3rd Qu.:271  \n",
      "                    Max.   :13.0457   Max.   :2.000   Max.   :271  \n",
      "     Pr(>F)         \n",
      " Min.   :0.0003621  \n",
      " 1st Qu.:0.2698363  \n",
      " Median :0.5393104  \n",
      " Mean   :0.4294264  \n",
      " 3rd Qu.:0.6439586  \n",
      " Max.   :0.7486067  \n",
      "Analysis of Variance of Aligned Rank Transformed Data\n",
      "\n",
      "Table Type: Analysis of Deviance Table (Type III Wald F tests with Kenward-Roger df) \n",
      "Model: Mixed Effects (lmer)\n",
      "Response: art(hrv_rmssd)\n",
      "\n",
      "                     F Df Df.res     Pr(>F)    \n",
      "1 method       0.28985  2    271 0.74860672    \n",
      "2 tide        13.04569  1    271 0.00036215 ***\n",
      "3 method:tide  0.61887  2    271 0.53931044    \n",
      "---\n",
      "Signif. codes:   0 ‘***’ 0.001 ‘**’ 0.01 ‘*’ 0.05 ‘.’ 0.1 ‘ ’ 1 \n",
      "\u001b[34m# Effect Size for ANOVA (Type I)\u001b[39m\n",
      "\n",
      "Parameter   | Eta2 (partial) |       95% CI\n",
      "-------------------------------------------\n",
      "method      |       2.13e-03 | [0.00, 1.00]\n",
      "tide        |           0.05 | [0.01, 1.00]\n",
      "method:tide |       4.55e-03 | [0.00, 1.00]\n",
      "\u001b[36m\n",
      "- One-sided CIs: upper bound fixed at [1.00].\u001b[39m\u001b[34m# Effect Size for ANOVA (Type I)\u001b[39m\n",
      "\n",
      "Parameter   | Omega2 (partial) |       95% CI\n",
      "---------------------------------------------\n",
      "method      |        -5.21e-03 | [0.00, 1.00]\n",
      "tide        |             0.04 | [0.01, 1.00]\n",
      "method:tide |        -2.79e-03 | [0.00, 1.00]\n",
      "\u001b[36m\n",
      "- One-sided CIs: upper bound fixed at [1.00].\u001b[39m                                           contrast   estimate       SE  df\n",
      "1      Gamification,HighTide - Gamification,LowTide  29.135417 10.71849 271\n",
      "2        Gamification,HighTide - Imitation,HighTide   7.625000 10.71849 271\n",
      "3         Gamification,HighTide - Imitation,LowTide  31.072917 10.71849 271\n",
      "4   Gamification,HighTide - NoInstructions,HighTide   9.635417 10.71849 271\n",
      "5    Gamification,HighTide - NoInstructions,LowTide  23.281250 10.71849 271\n",
      "6         Gamification,LowTide - Imitation,HighTide -21.510417 10.71849 271\n",
      "7          Gamification,LowTide - Imitation,LowTide   1.937500 10.71849 271\n",
      "8    Gamification,LowTide - NoInstructions,HighTide -19.500000 10.71849 271\n",
      "9     Gamification,LowTide - NoInstructions,LowTide  -5.854167 10.71849 271\n",
      "10           Imitation,HighTide - Imitation,LowTide  23.447917 10.71849 271\n",
      "11     Imitation,HighTide - NoInstructions,HighTide   2.010417 10.71849 271\n",
      "12      Imitation,HighTide - NoInstructions,LowTide  15.656250 10.71849 271\n",
      "13      Imitation,LowTide - NoInstructions,HighTide -21.437500 10.71849 271\n",
      "14       Imitation,LowTide - NoInstructions,LowTide  -7.791667 10.71849 271\n",
      "15 NoInstructions,HighTide - NoInstructions,LowTide  13.645833 10.71849 271\n",
      "      t.ratio    p.value sig.\n",
      "1   2.7182386 0.09780864    .\n",
      "2   0.7113874 1.00000000     \n",
      "3   2.8990010 0.06074842    .\n",
      "4   0.8989527 1.00000000     \n",
      "5   2.1720641 0.38417800     \n",
      "6  -2.0068512 0.50334492     \n",
      "7   0.1807624 1.00000000     \n",
      "8  -1.8192859 0.62974125     \n",
      "9  -0.5461745 1.00000000     \n",
      "10  2.1876136 0.38417800     \n",
      "11  0.1875653 1.00000000     \n",
      "12  1.4606767 1.00000000     \n",
      "13 -2.0000483 0.50334492     \n",
      "14 -0.7269369 1.00000000     \n",
      "15  1.2731114 1.00000000     \n",
      "2 & 271 & 0.29 & 0.749 & -0.005 & 1 & 271 & 13.046 & \\textbf{\\textbf{< .001}} & 0.042 & 2 & 271 & 0.619 & 0.539 & -0.003"
     ]
    }
   ],
   "source": [
    "df_ecg <- read.csv(\"./clean/ecg.csv\")\n",
    "# remove users with missing data, see 1.missing.ipynb\n",
    "df_ecg <- df_ecg %>% filter(!(user_id %in% c(11, 12, 14, 19, 20, 22, 25)))\n",
    "\n",
    "df_ecg$user_id <- as.factor(df_ecg$user_id)\n",
    "df_ecg$method <- as.factor(df_ecg$method)\n",
    "df_ecg$tide <- as.factor(df_ecg$tide)\n",
    "twoway_anova_test(df_ecg, \"hrv_rmssd\")"
   ]
  },
  {
   "cell_type": "code",
   "execution_count": 5,
   "metadata": {
    "vscode": {
     "languageId": "r"
    }
   },
   "outputs": [
    {
     "data": {
      "text/html": [
       "99.9458750212415"
      ],
      "text/latex": [
       "99.9458750212415"
      ],
      "text/markdown": [
       "99.9458750212415"
      ],
      "text/plain": [
       "[1] 99.94588"
      ]
     },
     "metadata": {},
     "output_type": "display_data"
    },
    {
     "data": {
      "text/html": [
       "17.2269739586624"
      ],
      "text/latex": [
       "17.2269739586624"
      ],
      "text/markdown": [
       "17.2269739586624"
      ],
      "text/plain": [
       "[1] 17.22697"
      ]
     },
     "metadata": {},
     "output_type": "display_data"
    },
    {
     "data": {
      "text/html": [
       "102.949578468924"
      ],
      "text/latex": [
       "102.949578468924"
      ],
      "text/markdown": [
       "102.949578468924"
      ],
      "text/plain": [
       "[1] 102.9496"
      ]
     },
     "metadata": {},
     "output_type": "display_data"
    },
    {
     "data": {
      "text/html": [
       "18.7112389535553"
      ],
      "text/latex": [
       "18.7112389535553"
      ],
      "text/markdown": [
       "18.7112389535553"
      ],
      "text/plain": [
       "[1] 18.71124"
      ]
     },
     "metadata": {},
     "output_type": "display_data"
    },
    {
     "data": {
      "text/html": [
       "98.9730088325767"
      ],
      "text/latex": [
       "98.9730088325767"
      ],
      "text/markdown": [
       "98.9730088325767"
      ],
      "text/plain": [
       "[1] 98.97301"
      ]
     },
     "metadata": {},
     "output_type": "display_data"
    },
    {
     "data": {
      "text/html": [
       "16.8207401276794"
      ],
      "text/latex": [
       "16.8207401276794"
      ],
      "text/markdown": [
       "16.8207401276794"
      ],
      "text/plain": [
       "[1] 16.82074"
      ]
     },
     "metadata": {},
     "output_type": "display_data"
    },
    {
     "data": {
      "text/html": [
       "'Effect sizes were labelled following Funder\\'s (2019) recommendations.\\n\\nThe Wilcoxon rank sum test with continuity correction testing the difference in ranks between df_ecg_noins$ecg_rate and df_ecg_gamif$ecg_rate suggests that the effect is negative, statistically not significant, and very small (W = 4168.00, p = 0.254; r (rank biserial) = -0.10, 95% CI [-0.25, 0.07])'"
      ],
      "text/latex": [
       "'Effect sizes were labelled following Funder\\textbackslash{}'s (2019) recommendations.\\textbackslash{}n\\textbackslash{}nThe Wilcoxon rank sum test with continuity correction testing the difference in ranks between df\\_ecg\\_noins\\$ecg\\_rate and df\\_ecg\\_gamif\\$ecg\\_rate suggests that the effect is negative, statistically not significant, and very small (W = 4168.00, p = 0.254; r (rank biserial) = -0.10, 95\\% CI {[}-0.25, 0.07{]})'"
      ],
      "text/markdown": [
       "'Effect sizes were labelled following Funder\\'s (2019) recommendations.\\n\\nThe Wilcoxon rank sum test with continuity correction testing the difference in ranks between df_ecg_noins$ecg_rate and df_ecg_gamif$ecg_rate suggests that the effect is negative, statistically not significant, and very small (W = 4168.00, p = 0.254; r (rank biserial) = -0.10, 95% CI [-0.25, 0.07])'"
      ],
      "text/plain": [
       "Effect sizes were labelled following Funder's (2019) recommendations.\n",
       "\n",
       "The Wilcoxon rank sum test with continuity correction testing the difference in\n",
       "ranks between df_ecg_noins$ecg_rate and df_ecg_gamif$ecg_rate suggests that the\n",
       "effect is negative, statistically not significant, and very small (W = 4168.00,\n",
       "p = 0.254; r (rank biserial) = -0.10, 95% CI [-0.25, 0.07])"
      ]
     },
     "metadata": {},
     "output_type": "display_data"
    },
    {
     "data": {
      "text/html": [
       "'Effect sizes were labelled following Funder\\'s (2019) recommendations.\\n\\nThe Wilcoxon rank sum test with continuity correction testing the difference in ranks between df_ecg_gamif$ecg_rate and df_ecg_imita$ecg_rate suggests that the effect is positive, statistically not significant, and small (W = 5210.00, p = 0.118; r (rank biserial) = 0.13, 95% CI [-0.03, 0.29])'"
      ],
      "text/latex": [
       "'Effect sizes were labelled following Funder\\textbackslash{}'s (2019) recommendations.\\textbackslash{}n\\textbackslash{}nThe Wilcoxon rank sum test with continuity correction testing the difference in ranks between df\\_ecg\\_gamif\\$ecg\\_rate and df\\_ecg\\_imita\\$ecg\\_rate suggests that the effect is positive, statistically not significant, and small (W = 5210.00, p = 0.118; r (rank biserial) = 0.13, 95\\% CI {[}-0.03, 0.29{]})'"
      ],
      "text/markdown": [
       "'Effect sizes were labelled following Funder\\'s (2019) recommendations.\\n\\nThe Wilcoxon rank sum test with continuity correction testing the difference in ranks between df_ecg_gamif$ecg_rate and df_ecg_imita$ecg_rate suggests that the effect is positive, statistically not significant, and small (W = 5210.00, p = 0.118; r (rank biserial) = 0.13, 95% CI [-0.03, 0.29])'"
      ],
      "text/plain": [
       "Effect sizes were labelled following Funder's (2019) recommendations.\n",
       "\n",
       "The Wilcoxon rank sum test with continuity correction testing the difference in\n",
       "ranks between df_ecg_gamif$ecg_rate and df_ecg_imita$ecg_rate suggests that the\n",
       "effect is positive, statistically not significant, and small (W = 5210.00, p =\n",
       "0.118; r (rank biserial) = 0.13, 95% CI [-0.03, 0.29])"
      ]
     },
     "metadata": {},
     "output_type": "display_data"
    },
    {
     "data": {
      "text/html": [
       "'Effect sizes were labelled following Funder\\'s (2019) recommendations.\\n\\nThe Wilcoxon rank sum test with continuity correction testing the difference in ranks between df_ecg_noins$ecg_rate and df_ecg_imita$ecg_rate suggests that the effect is positive, statistically not significant, and tiny (W = 4755.00, p = 0.704; r (rank biserial) = 0.03, 95% CI [-0.13, 0.19])'"
      ],
      "text/latex": [
       "'Effect sizes were labelled following Funder\\textbackslash{}'s (2019) recommendations.\\textbackslash{}n\\textbackslash{}nThe Wilcoxon rank sum test with continuity correction testing the difference in ranks between df\\_ecg\\_noins\\$ecg\\_rate and df\\_ecg\\_imita\\$ecg\\_rate suggests that the effect is positive, statistically not significant, and tiny (W = 4755.00, p = 0.704; r (rank biserial) = 0.03, 95\\% CI {[}-0.13, 0.19{]})'"
      ],
      "text/markdown": [
       "'Effect sizes were labelled following Funder\\'s (2019) recommendations.\\n\\nThe Wilcoxon rank sum test with continuity correction testing the difference in ranks between df_ecg_noins$ecg_rate and df_ecg_imita$ecg_rate suggests that the effect is positive, statistically not significant, and tiny (W = 4755.00, p = 0.704; r (rank biserial) = 0.03, 95% CI [-0.13, 0.19])'"
      ],
      "text/plain": [
       "Effect sizes were labelled following Funder's (2019) recommendations.\n",
       "\n",
       "The Wilcoxon rank sum test with continuity correction testing the difference in\n",
       "ranks between df_ecg_noins$ecg_rate and df_ecg_imita$ecg_rate suggests that the\n",
       "effect is positive, statistically not significant, and tiny (W = 4755.00, p =\n",
       "0.704; r (rank biserial) = 0.03, 95% CI [-0.13, 0.19])"
      ]
     },
     "metadata": {},
     "output_type": "display_data"
    }
   ],
   "source": [
    "df_ecg_noins <- df_ecg[df_ecg$method == \"NoInstructions\",]\n",
    "df_ecg_gamif <- df_ecg[df_ecg$method == \"Gamification\",]\n",
    "df_ecg_imita <- df_ecg[df_ecg$method == \"Imitation\",]\n",
    "\n",
    "mean(df_ecg_noins$ecg_rate)\n",
    "sd(df_ecg_noins$ecg_rate)\n",
    "mean(df_ecg_gamif$ecg_rate)\n",
    "sd(df_ecg_gamif$ecg_rate)\n",
    "mean(df_ecg_imita$ecg_rate)\n",
    "sd(df_ecg_imita$ecg_rate)\n",
    "\n",
    "report(wilcox.test(df_ecg_noins$ecg_rate, df_ecg_gamif$ecg_rate, p.adj = \"bonf\"))\n",
    "report(wilcox.test(df_ecg_gamif$ecg_rate, df_ecg_imita$ecg_rate, p.adj = \"bonf\"))\n",
    "report(wilcox.test(df_ecg_noins$ecg_rate, df_ecg_imita$ecg_rate, p.adj = \"bonf\"))"
   ]
  }
 ],
 "metadata": {
  "kernelspec": {
   "display_name": "R",
   "language": "R",
   "name": "ir"
  },
  "language_info": {
   "codemirror_mode": "r",
   "file_extension": ".r",
   "mimetype": "text/x-r-source",
   "name": "R",
   "pygments_lexer": "r",
   "version": "4.2.1"
  },
  "orig_nbformat": 4
 },
 "nbformat": 4,
 "nbformat_minor": 2
}
