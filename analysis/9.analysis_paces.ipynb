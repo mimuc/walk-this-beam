{
 "cells": [
  {
   "cell_type": "markdown",
   "metadata": {},
   "source": [
    "Copyright © 2022 LMU Munich Media Informatics Group. All rights reserved.\n",
    "\n",
    "Based on discussions between [Changkun Ou](https://changkun.de), [Francesco Chiossi](https://www.um.informatik.uni-muenchen.de/personen/mitarbeiter/chiossi/index.html), and [Sven Mayer](https://sven-mayer.com).\n",
    "\n",
    "Use of this source code is governed by a GNU GPLv3 license that\n",
    "can be found in the LICENSE file."
   ]
  },
  {
   "cell_type": "code",
   "execution_count": 1,
   "metadata": {
    "vscode": {
     "languageId": "r"
    }
   },
   "outputs": [
    {
     "name": "stderr",
     "output_type": "stream",
     "text": [
      "\n",
      "Attaching package: ‘dplyr’\n",
      "\n",
      "\n",
      "The following objects are masked from ‘package:stats’:\n",
      "\n",
      "    filter, lag\n",
      "\n",
      "\n",
      "The following objects are masked from ‘package:base’:\n",
      "\n",
      "    intersect, setdiff, setequal, union\n",
      "\n",
      "\n",
      "\n",
      "Attaching package: ‘effectsize’\n",
      "\n",
      "\n",
      "The following object is masked from ‘package:apa’:\n",
      "\n",
      "    cohens_d\n",
      "\n",
      "\n",
      "Loading required package: carData\n",
      "\n",
      "\n",
      "Attaching package: ‘car’\n",
      "\n",
      "\n",
      "The following object is masked from ‘package:dplyr’:\n",
      "\n",
      "    recode\n",
      "\n",
      "\n"
     ]
    }
   ],
   "source": [
    "source('stats.R')"
   ]
  },
  {
   "cell_type": "code",
   "execution_count": 2,
   "metadata": {
    "vscode": {
     "languageId": "r"
    }
   },
   "outputs": [
    {
     "name": "stderr",
     "output_type": "stream",
     "text": [
      "\u001b[1m\u001b[22m`summarise()` has grouped output by 'user_id', 'method'. You can override using\n",
      "the `.groups` argument.\n"
     ]
    }
   ],
   "source": [
    "df_paces <- read.csv(\"./clean/paces.csv\")\n",
    "df_paces <- df_paces %>% filter(!(user_id %in% c(12, 14, 20, 22)))\n",
    "df_paces <- df_paces %>% group_by(user_id, method, tide) %>% summarise(tlx = mean(tlx))\n",
    "\n",
    "df_paces$user_id <- as.factor(df_paces$user_id)\n",
    "df_paces$method <- as.factor(df_paces$method)\n",
    "df_paces$tide <- as.factor(df_paces$tide)"
   ]
  },
  {
   "cell_type": "code",
   "execution_count": 3,
   "metadata": {
    "vscode": {
     "languageId": "r"
    }
   },
   "outputs": [
    {
     "name": "stdout",
     "output_type": "stream",
     "text": [
      "[1] \"normally distributed:\"\n",
      "\n",
      "\tShapiro-Wilk normality test\n",
      "\n",
      "data:  df[[feature]]\n",
      "W = 0.98191, p-value = 0.2447\n",
      "\n",
      "                              Length Class      Mode\n",
      "ANOVA                         9      data.frame list\n",
      "Mauchly's Test for Sphericity 4      data.frame list\n",
      "Sphericity Corrections        7      data.frame list\n",
      "       Effect                                               \n",
      "1 (Intercept) F(1, 14) = 1589.65, p < .001, petasq = .99 ***\n",
      "2      method F(2, 28) =    4.81, p = .016, petasq = .26 *  \n",
      "3        tide F(1, 14) =    1.69, p = .215, petasq = .11    \n",
      "4 method:tide F(2, 28) =    0.46, p = .637, petasq = .03    \n",
      "2 & 28 & 4.808 & \\textbf{0.016} & 0.073 & 1 & 14 & 1.686 & 0.215 & 0.019 & 2 & 28 & 0.459 & 0.637 & 0.004"
     ]
    }
   ],
   "source": [
    "twoway_anova_test(df_paces, \"tlx\")"
   ]
  },
  {
   "cell_type": "code",
   "execution_count": 4,
   "metadata": {
    "vscode": {
     "languageId": "r"
    }
   },
   "outputs": [
    {
     "data": {
      "text/html": [
       "5.58703703703704"
      ],
      "text/latex": [
       "5.58703703703704"
      ],
      "text/markdown": [
       "5.58703703703704"
      ],
      "text/plain": [
       "[1] 5.587037"
      ]
     },
     "metadata": {},
     "output_type": "display_data"
    },
    {
     "data": {
      "text/html": [
       "0.617897417598272"
      ],
      "text/latex": [
       "0.617897417598272"
      ],
      "text/markdown": [
       "0.617897417598272"
      ],
      "text/plain": [
       "[1] 0.6178974"
      ]
     },
     "metadata": {},
     "output_type": "display_data"
    },
    {
     "data": {
      "text/html": [
       "5.09259259259259"
      ],
      "text/latex": [
       "5.09259259259259"
      ],
      "text/markdown": [
       "5.09259259259259"
      ],
      "text/plain": [
       "[1] 5.092593"
      ]
     },
     "metadata": {},
     "output_type": "display_data"
    },
    {
     "data": {
      "text/html": [
       "0.864898153020703"
      ],
      "text/latex": [
       "0.864898153020703"
      ],
      "text/markdown": [
       "0.864898153020703"
      ],
      "text/plain": [
       "[1] 0.8648982"
      ]
     },
     "metadata": {},
     "output_type": "display_data"
    },
    {
     "data": {
      "text/html": [
       "5.40555555555556"
      ],
      "text/latex": [
       "5.40555555555556"
      ],
      "text/markdown": [
       "5.40555555555556"
      ],
      "text/plain": [
       "[1] 5.405556"
      ]
     },
     "metadata": {},
     "output_type": "display_data"
    },
    {
     "data": {
      "text/html": [
       "0.739212184047212"
      ],
      "text/latex": [
       "0.739212184047212"
      ],
      "text/markdown": [
       "0.739212184047212"
      ],
      "text/plain": [
       "[1] 0.7392122"
      ]
     },
     "metadata": {},
     "output_type": "display_data"
    },
    {
     "name": "stderr",
     "output_type": "stream",
     "text": [
      "Warning message in wilcox.test.default(df_paces_noins$tlx, df_paces_gamif$tlx, p.adj = \"bonf\"):\n",
      "“cannot compute exact p-value with ties”\n"
     ]
    },
    {
     "data": {
      "text/html": [
       "'Effect sizes were labelled following Funder\\'s (2019) recommendations.\\n\\nThe Wilcoxon rank sum test with continuity correction testing the difference in ranks between df_paces_noins$tlx and df_paces_gamif$tlx suggests that the effect is positive, statistically significant, and large (W = 613.50, p = 0.016; r (rank biserial) = 0.36, 95% CI [0.09, 0.59])'"
      ],
      "text/latex": [
       "'Effect sizes were labelled following Funder\\textbackslash{}'s (2019) recommendations.\\textbackslash{}n\\textbackslash{}nThe Wilcoxon rank sum test with continuity correction testing the difference in ranks between df\\_paces\\_noins\\$tlx and df\\_paces\\_gamif\\$tlx suggests that the effect is positive, statistically significant, and large (W = 613.50, p = 0.016; r (rank biserial) = 0.36, 95\\% CI {[}0.09, 0.59{]})'"
      ],
      "text/markdown": [
       "'Effect sizes were labelled following Funder\\'s (2019) recommendations.\\n\\nThe Wilcoxon rank sum test with continuity correction testing the difference in ranks between df_paces_noins$tlx and df_paces_gamif$tlx suggests that the effect is positive, statistically significant, and large (W = 613.50, p = 0.016; r (rank biserial) = 0.36, 95% CI [0.09, 0.59])'"
      ],
      "text/plain": [
       "Effect sizes were labelled following Funder's (2019) recommendations.\n",
       "\n",
       "The Wilcoxon rank sum test with continuity correction testing the difference in\n",
       "ranks between df_paces_noins$tlx and df_paces_gamif$tlx suggests that the\n",
       "effect is positive, statistically significant, and large (W = 613.50, p =\n",
       "0.016; r (rank biserial) = 0.36, 95% CI [0.09, 0.59])"
      ]
     },
     "metadata": {},
     "output_type": "display_data"
    },
    {
     "name": "stderr",
     "output_type": "stream",
     "text": [
      "Warning message in wilcox.test.default(df_paces_gamif$tlx, df_paces_imita$tlx, p.adj = \"bonf\"):\n",
      "“cannot compute exact p-value with ties”\n"
     ]
    },
    {
     "data": {
      "text/html": [
       "'Effect sizes were labelled following Funder\\'s (2019) recommendations.\\n\\nThe Wilcoxon rank sum test with continuity correction testing the difference in ranks between df_paces_gamif$tlx and df_paces_imita$tlx suggests that the effect is negative, statistically not significant, and medium (W = 332.00, p = 0.082; r (rank biserial) = -0.26, 95% CI [-0.51, 0.03])'"
      ],
      "text/latex": [
       "'Effect sizes were labelled following Funder\\textbackslash{}'s (2019) recommendations.\\textbackslash{}n\\textbackslash{}nThe Wilcoxon rank sum test with continuity correction testing the difference in ranks between df\\_paces\\_gamif\\$tlx and df\\_paces\\_imita\\$tlx suggests that the effect is negative, statistically not significant, and medium (W = 332.00, p = 0.082; r (rank biserial) = -0.26, 95\\% CI {[}-0.51, 0.03{]})'"
      ],
      "text/markdown": [
       "'Effect sizes were labelled following Funder\\'s (2019) recommendations.\\n\\nThe Wilcoxon rank sum test with continuity correction testing the difference in ranks between df_paces_gamif$tlx and df_paces_imita$tlx suggests that the effect is negative, statistically not significant, and medium (W = 332.00, p = 0.082; r (rank biserial) = -0.26, 95% CI [-0.51, 0.03])'"
      ],
      "text/plain": [
       "Effect sizes were labelled following Funder's (2019) recommendations.\n",
       "\n",
       "The Wilcoxon rank sum test with continuity correction testing the difference in\n",
       "ranks between df_paces_gamif$tlx and df_paces_imita$tlx suggests that the\n",
       "effect is negative, statistically not significant, and medium (W = 332.00, p =\n",
       "0.082; r (rank biserial) = -0.26, 95% CI [-0.51, 0.03])"
      ]
     },
     "metadata": {},
     "output_type": "display_data"
    },
    {
     "name": "stderr",
     "output_type": "stream",
     "text": [
      "Warning message in wilcox.test.default(df_paces_noins$tlx, df_paces_imita$tlx, p.adj = \"bonf\"):\n",
      "“cannot compute exact p-value with ties”\n"
     ]
    },
    {
     "data": {
      "text/html": [
       "'Effect sizes were labelled following Funder\\'s (2019) recommendations.\\n\\nThe Wilcoxon rank sum test with continuity correction testing the difference in ranks between df_paces_noins$tlx and df_paces_imita$tlx suggests that the effect is positive, statistically not significant, and small (W = 502.00, p = 0.446; r (rank biserial) = 0.12, 95% CI [-0.18, 0.39])'"
      ],
      "text/latex": [
       "'Effect sizes were labelled following Funder\\textbackslash{}'s (2019) recommendations.\\textbackslash{}n\\textbackslash{}nThe Wilcoxon rank sum test with continuity correction testing the difference in ranks between df\\_paces\\_noins\\$tlx and df\\_paces\\_imita\\$tlx suggests that the effect is positive, statistically not significant, and small (W = 502.00, p = 0.446; r (rank biserial) = 0.12, 95\\% CI {[}-0.18, 0.39{]})'"
      ],
      "text/markdown": [
       "'Effect sizes were labelled following Funder\\'s (2019) recommendations.\\n\\nThe Wilcoxon rank sum test with continuity correction testing the difference in ranks between df_paces_noins$tlx and df_paces_imita$tlx suggests that the effect is positive, statistically not significant, and small (W = 502.00, p = 0.446; r (rank biserial) = 0.12, 95% CI [-0.18, 0.39])'"
      ],
      "text/plain": [
       "Effect sizes were labelled following Funder's (2019) recommendations.\n",
       "\n",
       "The Wilcoxon rank sum test with continuity correction testing the difference in\n",
       "ranks between df_paces_noins$tlx and df_paces_imita$tlx suggests that the\n",
       "effect is positive, statistically not significant, and small (W = 502.00, p =\n",
       "0.446; r (rank biserial) = 0.12, 95% CI [-0.18, 0.39])"
      ]
     },
     "metadata": {},
     "output_type": "display_data"
    }
   ],
   "source": [
    "df_paces_noins <- df_paces[df_paces$method == \"NoInstructions\",]\n",
    "df_paces_gamif <- df_paces[df_paces$method == \"Gamification\",]\n",
    "df_paces_imita <- df_paces[df_paces$method == \"Imitation\",]\n",
    "\n",
    "mean(df_paces_noins$tlx)\n",
    "sd(df_paces_noins$tlx)\n",
    "mean(df_paces_gamif$tlx)\n",
    "sd(df_paces_gamif$tlx)\n",
    "mean(df_paces_imita$tlx)\n",
    "sd(df_paces_imita$tlx)\n",
    "\n",
    "report(wilcox.test(df_paces_noins$tlx, df_paces_gamif$tlx, p.adj = \"bonf\"))\n",
    "report(wilcox.test(df_paces_gamif$tlx, df_paces_imita$tlx, p.adj = \"bonf\"))\n",
    "report(wilcox.test(df_paces_noins$tlx, df_paces_imita$tlx, p.adj = \"bonf\"))"
   ]
  }
 ],
 "metadata": {
  "kernelspec": {
   "display_name": "R",
   "language": "R",
   "name": "ir"
  },
  "language_info": {
   "codemirror_mode": "r",
   "file_extension": ".r",
   "mimetype": "text/x-r-source",
   "name": "R",
   "pygments_lexer": "r",
   "version": "4.2.1"
  },
  "orig_nbformat": 4,
  "vscode": {
   "interpreter": {
    "hash": "916dbcbb3f70747c44a77c7bcd40155683ae19c65e1c03b4aa3499c5328201f1"
   }
  }
 },
 "nbformat": 4,
 "nbformat_minor": 2
}
