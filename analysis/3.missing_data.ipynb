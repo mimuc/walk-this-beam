{
 "cells": [
  {
   "cell_type": "markdown",
   "metadata": {},
   "source": [
    "Copyright © 2022 LMU Munich Media Informatics Group. All rights reserved.\n",
    "\n",
    "Based on discussions between [Changkun Ou](https://changkun.de), [Francesco Chiossi](https://www.um.informatik.uni-muenchen.de/personen/mitarbeiter/chiossi/index.html), and [Sven Mayer](https://sven-mayer.com).\n",
    "\n",
    "Use of this source code is governed by a GNU GPLv3 license that\n",
    "can be found in the LICENSE file."
   ]
  },
  {
   "cell_type": "markdown",
   "metadata": {},
   "source": [
    "This notebook aims to identify users with missing data."
   ]
  },
  {
   "cell_type": "code",
   "execution_count": 1,
   "metadata": {},
   "outputs": [],
   "source": [
    "import pandas as pd\n",
    "import numpy as np"
   ]
  },
  {
   "cell_type": "code",
   "execution_count": 2,
   "metadata": {},
   "outputs": [],
   "source": [
    "df_ecg = pd.read_csv('./clean/ecg.csv')\n",
    "df_eda = pd.read_csv('./clean/eda.csv')\n",
    "df_mot = pd.read_csv('./clean/motion.csv')\n",
    "df_ipq = pd.read_csv('./clean/ipq.csv')\n",
    "df_tlx = pd.read_csv('./clean/nasa_tlx.csv')\n",
    "df_pac = pd.read_csv('./clean/paces.csv')"
   ]
  },
  {
   "cell_type": "code",
   "execution_count": 3,
   "metadata": {},
   "outputs": [
    {
     "data": {
      "text/plain": [
       "[12, 20, 14, 22]"
      ]
     },
     "execution_count": 3,
     "metadata": {},
     "output_type": "execute_result"
    }
   ],
   "source": [
    "# We should have a total of 3*2*4 = 24 (#methods x #tide x #lap) measures per user.\n",
    "u1 = df_ecg.groupby(['user_id']).count().query('lap != 24').index.values.tolist()\n",
    "u2 = df_eda.groupby(['user_id']).count().query('lap != 24').index.values.tolist()\n",
    "u3 = df_mot.groupby(['user_id']).count().query('lap != 24').index.values.tolist()\n",
    "# IPQ questionaire have 14 questions and each user is measured 2 times, in total we should have 28 rows per user.\n",
    "u4 = df_ipq.groupby(['user_id']).count().query('ipq != 28').index.values.tolist()\n",
    "# NASA-TLX questionaire have 6 questions and each user is measured 6 times, in total we should have 36 rows per user.\n",
    "u5 = df_tlx.groupby(['user_id']).count().query('tlx != 36').index.values.tolist()\n",
    "# PACES questionaire have 18 questions and each user is measured 6 times, in total we should have 108 rows per user.\n",
    "u6 = df_pac.groupby('user_id').count().query('tlx != 108').index.values.tolist()\n",
    "\n",
    "user_with_missing_data = list(set(u1+u2+u3+u4+u5+u6))\n",
    "user_with_missing_data"
   ]
  },
  {
   "cell_type": "code",
   "execution_count": 4,
   "metadata": {},
   "outputs": [
    {
     "data": {
      "text/plain": [
       "[11, 12, 14, 19, 25]"
      ]
     },
     "execution_count": 4,
     "metadata": {},
     "output_type": "execute_result"
    }
   ],
   "source": [
    "# users that produces NaN in HRV measures\n",
    "list(set(df_ecg.query('hrv_rmssd != hrv_rmssd')['user_id'].tolist()))"
   ]
  }
 ],
 "metadata": {
  "kernelspec": {
   "display_name": "Python 3.9.13 ('walk-this-beam')",
   "language": "python",
   "name": "python3"
  },
  "language_info": {
   "codemirror_mode": {
    "name": "ipython",
    "version": 3
   },
   "file_extension": ".py",
   "mimetype": "text/x-python",
   "name": "python",
   "nbconvert_exporter": "python",
   "pygments_lexer": "ipython3",
   "version": "3.9.13"
  },
  "orig_nbformat": 4,
  "vscode": {
   "interpreter": {
    "hash": "17e9a13945b4a4913d475bf688d0f5562f8f26b22e62da24626fcdc612724c3e"
   }
  }
 },
 "nbformat": 4,
 "nbformat_minor": 2
}
