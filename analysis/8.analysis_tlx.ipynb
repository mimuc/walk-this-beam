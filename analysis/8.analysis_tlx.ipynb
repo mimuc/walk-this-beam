{
 "cells": [
  {
   "cell_type": "markdown",
   "metadata": {},
   "source": [
    "Copyright © 2022 LMU Munich Media Informatics Group. All rights reserved.\n",
    "\n",
    "Based on discussions between [Changkun Ou](https://changkun.de), [Francesco Chiossi](https://www.um.informatik.uni-muenchen.de/personen/mitarbeiter/chiossi/index.html), and [Sven Mayer](https://sven-mayer.com).\n",
    "\n",
    "Use of this source code is governed by a GNU GPLv3 license that\n",
    "can be found in the LICENSE file."
   ]
  },
  {
   "cell_type": "code",
   "execution_count": 2,
   "metadata": {
    "vscode": {
     "languageId": "r"
    }
   },
   "outputs": [],
   "source": [
    "source('stats.R')"
   ]
  },
  {
   "cell_type": "code",
   "execution_count": 3,
   "metadata": {
    "vscode": {
     "languageId": "r"
    }
   },
   "outputs": [
    {
     "name": "stderr",
     "output_type": "stream",
     "text": [
      "\u001b[1m\u001b[22m`summarise()` has grouped output by 'user_id', 'method'. You can override using\n",
      "the `.groups` argument.\n"
     ]
    }
   ],
   "source": [
    "df_tlx <- read.csv(\"./clean/nasa_tlx.csv\")\n",
    "df_tlx <- df_tlx %>% filter(!(user_id %in% c(12, 14, 20, 22)))\n",
    "df_tlx <- df_tlx %>% group_by(user_id, method, tide) %>% summarise(tlx = mean(tlx))\n",
    "\n",
    "df_tlx$user_id <- as.factor(df_tlx$user_id)\n",
    "df_tlx$method <- as.factor(df_tlx$method)\n",
    "df_tlx$tide <- as.factor(df_tlx$tide)"
   ]
  },
  {
   "cell_type": "code",
   "execution_count": 4,
   "metadata": {
    "vscode": {
     "languageId": "r"
    }
   },
   "outputs": [
    {
     "name": "stdout",
     "output_type": "stream",
     "text": [
      "[1] \"normally distributed:\"\n",
      "\n",
      "\tShapiro-Wilk normality test\n",
      "\n",
      "data:  df[[feature]]\n",
      "W = 0.97408, p-value = 0.06876\n",
      "\n",
      "                              Length Class      Mode\n",
      "ANOVA                         9      data.frame list\n",
      "Mauchly's Test for Sphericity 4      data.frame list\n",
      "Sphericity Corrections        7      data.frame list\n",
      "       Effect                                              \n",
      "1 (Intercept) F(1, 14) = 413.57, p < .001, petasq = .97 ***\n",
      "2      method F(2, 28) =   9.34, p < .001, petasq = .40 ***\n",
      "3        tide F(1, 14) =   4.68, p = .048, petasq = .25 *  \n",
      "4 method:tide F(2, 28) =   0.48, p = .621, petasq = .03    \n",
      "2 & 28 & 9.341 & \\textbf{0.001} & 0.113 & 1 & 14 & 4.677 & \\textbf{0.048} & 0.046 & 2 & 28 & 0.485 & 0.621 & 0.006"
     ]
    }
   ],
   "source": [
    "twoway_anova_test(df_tlx, \"tlx\")"
   ]
  },
  {
   "cell_type": "code",
   "execution_count": 5,
   "metadata": {
    "vscode": {
     "languageId": "r"
    }
   },
   "outputs": [
    {
     "data": {
      "text/html": [
       "43.1111111111111"
      ],
      "text/latex": [
       "43.1111111111111"
      ],
      "text/markdown": [
       "43.1111111111111"
      ],
      "text/plain": [
       "[1] 43.11111"
      ]
     },
     "metadata": {},
     "output_type": "display_data"
    },
    {
     "data": {
      "text/html": [
       "13.4974336522895"
      ],
      "text/latex": [
       "13.4974336522895"
      ],
      "text/markdown": [
       "13.4974336522895"
      ],
      "text/plain": [
       "[1] 13.49743"
      ]
     },
     "metadata": {},
     "output_type": "display_data"
    },
    {
     "data": {
      "text/html": [
       "53.3888888888889"
      ],
      "text/latex": [
       "53.3888888888889"
      ],
      "text/markdown": [
       "53.3888888888889"
      ],
      "text/plain": [
       "[1] 53.38889"
      ]
     },
     "metadata": {},
     "output_type": "display_data"
    },
    {
     "data": {
      "text/html": [
       "12.9153843140483"
      ],
      "text/latex": [
       "12.9153843140483"
      ],
      "text/markdown": [
       "12.9153843140483"
      ],
      "text/plain": [
       "[1] 12.91538"
      ]
     },
     "metadata": {},
     "output_type": "display_data"
    },
    {
     "data": {
      "text/html": [
       "45.2777777777778"
      ],
      "text/latex": [
       "45.2777777777778"
      ],
      "text/markdown": [
       "45.2777777777778"
      ],
      "text/plain": [
       "[1] 45.27778"
      ]
     },
     "metadata": {},
     "output_type": "display_data"
    },
    {
     "data": {
      "text/html": [
       "12.3318835225314"
      ],
      "text/latex": [
       "12.3318835225314"
      ],
      "text/markdown": [
       "12.3318835225314"
      ],
      "text/plain": [
       "[1] 12.33188"
      ]
     },
     "metadata": {},
     "output_type": "display_data"
    },
    {
     "name": "stderr",
     "output_type": "stream",
     "text": [
      "Warning message in wilcox.test.default(df_tlx_noins$tlx, df_tlx_gamif$tlx, p.adj = \"bonf\"):\n",
      "“cannot compute exact p-value with ties”\n"
     ]
    },
    {
     "data": {
      "text/html": [
       "'Effect sizes were labelled following Funder\\'s (2019) recommendations.\\n\\nThe Wilcoxon rank sum test with continuity correction testing the difference in ranks between df_tlx_noins$tlx and df_tlx_gamif$tlx suggests that the effect is negative, statistically significant, and very large (W = 257.50, p = 0.005; r (rank biserial) = -0.43, 95% CI [-0.64, -0.16])'"
      ],
      "text/latex": [
       "'Effect sizes were labelled following Funder\\textbackslash{}'s (2019) recommendations.\\textbackslash{}n\\textbackslash{}nThe Wilcoxon rank sum test with continuity correction testing the difference in ranks between df\\_tlx\\_noins\\$tlx and df\\_tlx\\_gamif\\$tlx suggests that the effect is negative, statistically significant, and very large (W = 257.50, p = 0.005; r (rank biserial) = -0.43, 95\\% CI {[}-0.64, -0.16{]})'"
      ],
      "text/markdown": [
       "'Effect sizes were labelled following Funder\\'s (2019) recommendations.\\n\\nThe Wilcoxon rank sum test with continuity correction testing the difference in ranks between df_tlx_noins$tlx and df_tlx_gamif$tlx suggests that the effect is negative, statistically significant, and very large (W = 257.50, p = 0.005; r (rank biserial) = -0.43, 95% CI [-0.64, -0.16])'"
      ],
      "text/plain": [
       "Effect sizes were labelled following Funder's (2019) recommendations.\n",
       "\n",
       "The Wilcoxon rank sum test with continuity correction testing the difference in\n",
       "ranks between df_tlx_noins$tlx and df_tlx_gamif$tlx suggests that the effect is\n",
       "negative, statistically significant, and very large (W = 257.50, p = 0.005; r\n",
       "(rank biserial) = -0.43, 95% CI [-0.64, -0.16])"
      ]
     },
     "metadata": {},
     "output_type": "display_data"
    },
    {
     "name": "stderr",
     "output_type": "stream",
     "text": [
      "Warning message in wilcox.test.default(df_tlx_gamif$tlx, df_tlx_imita$tlx, p.adj = \"bonf\"):\n",
      "“cannot compute exact p-value with ties”\n"
     ]
    },
    {
     "data": {
      "text/html": [
       "'Effect sizes were labelled following Funder\\'s (2019) recommendations.\\n\\nThe Wilcoxon rank sum test with continuity correction testing the difference in ranks between df_tlx_gamif$tlx and df_tlx_imita$tlx suggests that the effect is positive, statistically significant, and large (W = 621.50, p = 0.011; r (rank biserial) = 0.38, 95% CI [0.11, 0.60])'"
      ],
      "text/latex": [
       "'Effect sizes were labelled following Funder\\textbackslash{}'s (2019) recommendations.\\textbackslash{}n\\textbackslash{}nThe Wilcoxon rank sum test with continuity correction testing the difference in ranks between df\\_tlx\\_gamif\\$tlx and df\\_tlx\\_imita\\$tlx suggests that the effect is positive, statistically significant, and large (W = 621.50, p = 0.011; r (rank biserial) = 0.38, 95\\% CI {[}0.11, 0.60{]})'"
      ],
      "text/markdown": [
       "'Effect sizes were labelled following Funder\\'s (2019) recommendations.\\n\\nThe Wilcoxon rank sum test with continuity correction testing the difference in ranks between df_tlx_gamif$tlx and df_tlx_imita$tlx suggests that the effect is positive, statistically significant, and large (W = 621.50, p = 0.011; r (rank biserial) = 0.38, 95% CI [0.11, 0.60])'"
      ],
      "text/plain": [
       "Effect sizes were labelled following Funder's (2019) recommendations.\n",
       "\n",
       "The Wilcoxon rank sum test with continuity correction testing the difference in\n",
       "ranks between df_tlx_gamif$tlx and df_tlx_imita$tlx suggests that the effect is\n",
       "positive, statistically significant, and large (W = 621.50, p = 0.011; r (rank\n",
       "biserial) = 0.38, 95% CI [0.11, 0.60])"
      ]
     },
     "metadata": {},
     "output_type": "display_data"
    },
    {
     "name": "stderr",
     "output_type": "stream",
     "text": [
      "Warning message in wilcox.test.default(df_tlx_noins$tlx, df_tlx_imita$tlx, p.adj = \"bonf\"):\n",
      "“cannot compute exact p-value with ties”\n"
     ]
    },
    {
     "data": {
      "text/html": [
       "'Effect sizes were labelled following Funder\\'s (2019) recommendations.\\n\\nThe Wilcoxon rank sum test with continuity correction testing the difference in ranks between df_tlx_noins$tlx and df_tlx_imita$tlx suggests that the effect is negative, statistically not significant, and small (W = 400.00, p = 0.464; r (rank biserial) = -0.11, 95% CI [-0.39, 0.18])'"
      ],
      "text/latex": [
       "'Effect sizes were labelled following Funder\\textbackslash{}'s (2019) recommendations.\\textbackslash{}n\\textbackslash{}nThe Wilcoxon rank sum test with continuity correction testing the difference in ranks between df\\_tlx\\_noins\\$tlx and df\\_tlx\\_imita\\$tlx suggests that the effect is negative, statistically not significant, and small (W = 400.00, p = 0.464; r (rank biserial) = -0.11, 95\\% CI {[}-0.39, 0.18{]})'"
      ],
      "text/markdown": [
       "'Effect sizes were labelled following Funder\\'s (2019) recommendations.\\n\\nThe Wilcoxon rank sum test with continuity correction testing the difference in ranks between df_tlx_noins$tlx and df_tlx_imita$tlx suggests that the effect is negative, statistically not significant, and small (W = 400.00, p = 0.464; r (rank biserial) = -0.11, 95% CI [-0.39, 0.18])'"
      ],
      "text/plain": [
       "Effect sizes were labelled following Funder's (2019) recommendations.\n",
       "\n",
       "The Wilcoxon rank sum test with continuity correction testing the difference in\n",
       "ranks between df_tlx_noins$tlx and df_tlx_imita$tlx suggests that the effect is\n",
       "negative, statistically not significant, and small (W = 400.00, p = 0.464; r\n",
       "(rank biserial) = -0.11, 95% CI [-0.39, 0.18])"
      ]
     },
     "metadata": {},
     "output_type": "display_data"
    }
   ],
   "source": [
    "df_tlx_noins <- df_tlx[df_tlx$method == \"NoInstructions\",]\n",
    "df_tlx_gamif <- df_tlx[df_tlx$method == \"Gamification\",]\n",
    "df_tlx_imita <- df_tlx[df_tlx$method == \"Imitation\",]\n",
    "\n",
    "mean(df_tlx_noins$tlx)\n",
    "sd(df_tlx_noins$tlx)\n",
    "mean(df_tlx_gamif$tlx)\n",
    "sd(df_tlx_gamif$tlx)\n",
    "mean(df_tlx_imita$tlx)\n",
    "sd(df_tlx_imita$tlx)\n",
    "\n",
    "report(wilcox.test(df_tlx_noins$tlx, df_tlx_gamif$tlx, p.adj = \"bonf\"))\n",
    "report(wilcox.test(df_tlx_gamif$tlx, df_tlx_imita$tlx, p.adj = \"bonf\"))\n",
    "report(wilcox.test(df_tlx_noins$tlx, df_tlx_imita$tlx, p.adj = \"bonf\"))"
   ]
  }
 ],
 "metadata": {
  "kernelspec": {
   "display_name": "R",
   "language": "R",
   "name": "ir"
  },
  "language_info": {
   "codemirror_mode": "r",
   "file_extension": ".r",
   "mimetype": "text/x-r-source",
   "name": "R",
   "pygments_lexer": "r",
   "version": "4.2.1"
  },
  "orig_nbformat": 4,
  "vscode": {
   "interpreter": {
    "hash": "916dbcbb3f70747c44a77c7bcd40155683ae19c65e1c03b4aa3499c5328201f1"
   }
  }
 },
 "nbformat": 4,
 "nbformat_minor": 2
}
